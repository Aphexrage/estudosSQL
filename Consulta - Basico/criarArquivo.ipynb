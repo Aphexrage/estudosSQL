{
 "cells": [
  {
   "cell_type": "code",
   "execution_count": 4,
   "id": "75d05819",
   "metadata": {},
   "outputs": [],
   "source": [
    "# Notebook para criar arquivo SQL para enviar para o Github\n",
    "\n",
    "numero = int(input(\"Informe o numero do arquivo\"))\n",
    "\n",
    "open(f'Query{numero}.sql', 'w').close()"
   ]
  }
 ],
 "metadata": {
  "kernelspec": {
   "display_name": "Python 3",
   "language": "python",
   "name": "python3"
  },
  "language_info": {
   "codemirror_mode": {
    "name": "ipython",
    "version": 3
   },
   "file_extension": ".py",
   "mimetype": "text/x-python",
   "name": "python",
   "nbconvert_exporter": "python",
   "pygments_lexer": "ipython3",
   "version": "3.11.9"
  }
 },
 "nbformat": 4,
 "nbformat_minor": 5
}
